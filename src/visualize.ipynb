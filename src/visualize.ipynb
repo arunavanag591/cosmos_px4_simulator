{
 "cells": [
  {
   "cell_type": "code",
   "execution_count": 3,
   "metadata": {},
   "outputs": [],
   "source": [
    "import numpy as np\n",
    "import matplotlib.pyplot as plt\n",
    "from scipy.ndimage import zoom\n",
    "import pandas as pd\n",
    "import scipy\n",
    "# Define original and target coordinates\n",
    "original_extent = (-25, 25, -25, 25)  # (xmin, xmax, ymin, ymax)\n",
    "target_extent = (-2, 5, -2, 2)        # (xmin, xmax, ymin, ymax)\n",
    "source_position = (-2, 0)             # Where to place the source\n"
   ]
  },
  {
   "cell_type": "code",
   "execution_count": 12,
   "metadata": {},
   "outputs": [
    {
     "data": {
      "image/png": "[encoded data removed]",
      "text/plain": [
       "<Figure size 640x480 with 1 Axes>"
      ]
     },
     "metadata": {},
     "output_type": "display_data"
    }
   ],
   "source": [
    "dirname = ('/home/vbl/gazebo_ws/src/gazebo_px4_simulator/odor_sim_assets/hws/')\n",
    "hmap_data = np.load(str(dirname) + \"hmap.npz\")\n",
    "fdf = pd.read_hdf(str(dirname) + 'whiff.h5')\n",
    "fdf_nowhiff = pd.read_hdf(str(dirname) + 'nowhiff.h5')\n",
    "\n",
    "fitted_p_heatmap=hmap_data['fitted_heatmap']\n",
    "xedges=hmap_data['xedges']\n",
    "yedges=hmap_data['yedges']\n",
    "\n",
    "f,ax=plt.subplots(1,1)\n",
    "cax = ax.imshow(\n",
    "    fitted_p_heatmap.T,\n",
    "    origin='lower',\n",
    "    extent=[xedges[0], xedges[-1], yedges[0], yedges[-1]],\n",
    "    cmap='Greys', vmin=0, vmax=0.01, rasterized=True,\n",
    ")\n",
    "ax.set_rasterization_zorder(-20)\n",
    "\n",
    "# ax.set_xlabel('Distance along Streakline, m')\n",
    "# ax.xaxis.set_label_coords(0.5, -0.1)\n",
    "ax.set_ylabel('y, m')\n",
    "ax.yaxis.set_label_coords(-0.05, 0.5)\n",
    "ax.ticklabel_format(useOffset=False)\n",
    "\n",
    "# ax.set_ylim(-40,50)\n",
    "ax.grid(False)"
   ]
  },
  {
   "cell_type": "code",
   "execution_count": 16,
   "metadata": {},
   "outputs": [
    {
     "data": {
      "image/png": "[encoded data removed]",
      "text/plain": [
       "<Figure size 640x480 with 1 Axes>"
      ]
     },
     "metadata": {},
     "output_type": "display_data"
    }
   ],
   "source": [
    "\n",
    "# 1) compute scale factors and shifted edges\n",
    "old_xmin, old_xmax = xedges[0], xedges[-1]\n",
    "old_ymin, old_ymax = yedges[0], yedges[-1]\n",
    "\n",
    "# For the example, assume source at 0 in old coords => shift & scale so that\n",
    "# old_x=0 maps to new_x=-2, and old_x=old_xmax maps to new_x=5.\n",
    "new_xmin, new_xmax = -2, 5\n",
    "scale_x = (new_xmax - new_xmin) / (old_xmax - old_xmin)\n",
    "\n",
    "# Similarly for y from -2..2\n",
    "new_ymin, new_ymax = -2, 2\n",
    "scale_y = (new_ymax - new_ymin) / (old_ymax - old_ymin)\n",
    "\n",
    "# Apply to all edges\n",
    "scaled_xedges = new_xmin + scale_x * (xedges - old_xmin)\n",
    "scaled_yedges = new_ymin + scale_y * (yedges - old_ymin)\n",
    "\n",
    "# Now just use these in 'extent'\n",
    "plt.imshow(\n",
    "    fitted_p_heatmap.T,\n",
    "    origin='lower',\n",
    "    extent=[scaled_xedges[0], scaled_xedges[-1],\n",
    "            scaled_yedges[0], scaled_yedges[-1]],\n",
    "    cmap='Greys', vmin=0, vmax=0.01,\n",
    "    rasterized=True,\n",
    ")\n",
    "\n",
    "plt.xlabel(\"x [m]\")\n",
    "plt.ylabel(\"y [m]\")\n",
    "plt.show()"
   ]
  },
  {
   "cell_type": "code",
   "execution_count": 27,
   "metadata": {},
   "outputs": [],
   "source": [
    "# np.savez('rescaled_odor_heatmap.npz', \n",
    "#          fitted_heatmap=fitted_p_heatmap,\n",
    "#          xedges=scaled_xedges, \n",
    "#          yedges=scaled_yedges)\n",
    "\n",
    "\n",
    "fdf = pd.read_hdf('/home/vbl/gazebo_ws/src/gazebo_px4_simulator/odor_sim_assets/hws/nowhiff.h5')"
   ]
  },
  {
   "cell_type": "code",
   "execution_count": 30,
   "metadata": {},
   "outputs": [
    {
     "data": {
      "text/plain": [
       "Index(['wc_nowhiff', 'wsd_nowhiff', 'avg_distance_along_streakline',\n",
       "       'avg_nearest_from_streakline', 'avg_dist_from_source'],\n",
       "      dtype='object')"
      ]
     },
     "execution_count": 30,
     "metadata": {},
     "output_type": "execute_result"
    }
   ],
   "source": [
    "fdf.keys()"
   ]
  },
  {
   "cell_type": "code",
   "execution_count": 29,
   "metadata": {},
   "outputs": [],
   "source": [
    "# Define old bounding box\n",
    "xmin_old, xmax_old = 0, 60\n",
    "ymin_old, ymax_old = -20, 20\n",
    "\n",
    "# Define new bounding box + new source\n",
    "xmin_new, xmax_new = -2, 5\n",
    "ymin_new, ymax_new = -2, 2\n",
    "source_new = (-2, 0)\n",
    "\n",
    "# Scale factors\n",
    "scale_x = (xmax_new - xmin_new) / (xmax_old - xmin_old)\n",
    "scale_y = (ymax_new - ymin_new) / (ymax_old - ymin_old)\n",
    "\n",
    "# In many streakline analyses:\n",
    "# avg_distance_along_streakline ~ x-coordinate\n",
    "# avg_nearest_from_streakline   ~ y-offset\n",
    "# So let's treat them as (bar_x, bar_y)\n",
    "bar_x_old = fdf[\"avg_distance_along_streakline\"].values\n",
    "bar_y_old = fdf[\"avg_nearest_from_streakline\"].values\n",
    "\n",
    "# Now compute the new coordinates\n",
    "x_new = xmin_new + scale_x * (bar_x_old - xmin_old)\n",
    "y_new = ymin_new + scale_y * (bar_y_old - ymin_old)\n",
    "\n",
    "# Recompute distance from NEW source = sqrt( (x_new - xS)^2 + (y_new - yS)^2 )\n",
    "xS, yS = source_new\n",
    "dist_new = np.sqrt((x_new - xS)**2 + (y_new - yS)**2)\n",
    "\n",
    "# Store them in new columns if you like:\n",
    "fdf[\"avg_distance_along_streakline\"] = x_new\n",
    "fdf[\"avg_nearest_from_streakline\"]   = y_new\n",
    "fdf[\"avg_dist_from_source\"]          = dist_new"
   ]
  },
  {
   "cell_type": "code",
   "execution_count": 31,
   "metadata": {},
   "outputs": [],
   "source": [
    "fdf.to_hdf('/home/vbl/gazebo_ws/src/gazebo_px4_simulator/odor_sim_assets/hws/nowhiff_rescaled.h5', key='fdf', mode='w')"
   ]
  },
  {
   "cell_type": "code",
   "execution_count": null,
   "metadata": {},
   "outputs": [],
   "source": []
  }
 ],
 "metadata": {
  "kernelspec": {
   "display_name": "vscode38kernel",
   "language": "python",
   "name": "pywork38"
  },
  "language_info": {
   "codemirror_mode": {
    "name": "ipython",
    "version": 3
   },
   "file_extension": ".py",
   "mimetype": "text/x-python",
   "name": "python",
   "nbconvert_exporter": "python",
   "pygments_lexer": "ipython3",
   "version": "3.8.10"
  }
 },
 "nbformat": 4,
 "nbformat_minor": 2
}
